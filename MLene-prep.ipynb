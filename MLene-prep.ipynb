{
 "cells": [
  {
   "cell_type": "markdown",
   "metadata": {},
   "source": [
    "## Prepare input file for moment prediction\n",
    "\n",
    "\n",
    "This notebook will create an input file based on coordinates and sublattice information"
   ]
  },
  {
   "cell_type": "markdown",
   "metadata": {},
   "source": [
    "### Prelimary imports and settings "
   ]
  },
  {
   "cell_type": "code",
   "execution_count": 1,
   "metadata": {},
   "outputs": [],
   "source": [
    "# import libraries\n",
    "import numpy as np\n",
    "import matplotlib.pyplot as plt\n",
    "import mlene\n",
    "\n",
    "\n",
    "# directory to save custom geometries\n",
    "custom_dir='custom/'       # location of custom geometry files"
   ]
  },
  {
   "cell_type": "markdown",
   "metadata": {},
   "source": [
    "### Import a new, unseen system\n",
    "\n",
    "Import a geometry file and prepare a .gz input file for moment prediction\n",
    "\n",
    "This is Step 1 in the main MLene notebook. \n",
    "\n"
   ]
  },
  {
   "cell_type": "markdown",
   "metadata": {},
   "source": [
    "#### Step 1 - Prepare input file "
   ]
  },
  {
   "cell_type": "code",
   "execution_count": 2,
   "metadata": {
    "scrolled": true
   },
   "outputs": [
    {
     "data": {
      "image/png": "[encoded data removed]",
      "text/plain": [
       "<Figure size 720x576 with 1 Axes>"
      ]
     },
     "metadata": {
      "needs_background": "light"
     },
     "output_type": "display_data"
    },
    {
     "name": "stdout",
     "output_type": "stream",
     "text": [
      "Current precision: 0.20556179723789803\n",
      "Current precision: 0.0689907161028509\n",
      "Current precision: 0.029302547099522736\n",
      "Current precision: 0.01553544334270085\n",
      "Current precision: 0.009131031844902215\n",
      "Current precision: 0.005769944390915049\n",
      "Current precision: 0.003820333998482417\n",
      "Current precision: 0.0026024154861727933\n",
      "Current precision: 0.0018025673823909294\n",
      "Current precision: 0.0012605168075359163\n",
      "Current precision: 0.0008862005324205557\n",
      "Current precision: 0.0006248781694489502\n",
      "Current precision: 0.00044130700418582025\n",
      "Current precision: 0.00031190921718465825\n",
      "Current precision: 0.00022052855588977627\n",
      "Current precision: 0.00015593464563951054\n",
      "Current precision: 0.0001102559938498393\n",
      "Current precision: 7.794933664484471e-05\n",
      "Current precision: 5.510086224513877e-05\n",
      "Current precision: 3.894347175276147e-05\n",
      "Current precision: 2.751953794266626e-05\n",
      "Current precision: 1.9443779008199158e-05\n",
      "Current precision: 1.3735917424817501e-05\n",
      "Current precision: 9.702356072838203e-06\n"
     ]
    }
   ],
   "source": [
    "## Load file with X, Y, SUBLATTICE only, and prepare geometry for self-consistent and/or machine learning\n",
    "## SKIP TO STEP 2 if you have prepared the input file already (with edge types and/or self-consistent moments)\n",
    "\n",
    "## N.B.:\n",
    "## Must supply x-coordinate, y-coordinate and sublattice index\n",
    "## x AND y coords MUST be in units of the lattice constant\n",
    "## sublattice indices are 1 and -1, and are used to find the sign of the moment\n",
    "\n",
    "\n",
    "# import structure\n",
    "# (try 'g.dat', which is included with the download)\n",
    "filename = 'g.dat'\n",
    "x, y, subs = np.loadtxt(filename, unpack=True, delimiter=',')\n",
    "\n",
    "\n",
    "# process geometry (removes dangling atoms and classifies sites)\n",
    "x1, y1, subs1, sysedges, sysdist = mlene.process_geo(x,y, subs)\n",
    "\n",
    "\n",
    "# #plot edge types\n",
    "fig, ax = mlene.map_site_types(x1, y1, subs1, sysedges)\n",
    "plt.show()\n",
    "\n",
    "\n",
    "\n",
    "# ## perform a self-consistent calculation of the moments (False by default as it can be slow for large systems)\n",
    "perform_SC=True\n",
    "\n",
    "if perform_SC==True:\n",
    "    # #spin-independent hamiltonian\n",
    "    ham = mlene.TB_Hamiltonian(sysdist, 1/np.sqrt(3), -1.0)\n",
    "\n",
    "    # #initial guess for moments\n",
    "    init = mlene.initialise_moments_smart(subs1, sysedges)\n",
    "\n",
    "    # #self-consistent loop for moments\n",
    "    final, accs, norms =mlene.find_moments(ham, init, prec=0.00001, hubU=1.33, alpha=1.0, verbose=True)\n",
    "    \n",
    "    \n",
    "# set moments to zero if SC calculation is not performed    \n",
    "if perform_SC==False:\n",
    "    final = np.zeros_like(x1)\n",
    "\n",
    "# #save the information needed to generate a descriptor for ML methods in later steps\n",
    "config_name=filename+'.tidied'\n",
    "np.savetxt(custom_dir+config_name+'.gz', np.c_[x1, y1, subs1, sysedges, final], delimiter=',')"
   ]
  },
  {
   "cell_type": "code",
   "execution_count": null,
   "metadata": {},
   "outputs": [],
   "source": []
  }
 ],
 "metadata": {
  "kernelspec": {
   "display_name": "Python 3",
   "language": "python",
   "name": "python3"
  },
  "language_info": {
   "codemirror_mode": {
    "name": "ipython",
    "version": 3
   },
   "file_extension": ".py",
   "mimetype": "text/x-python",
   "name": "python",
   "nbconvert_exporter": "python",
   "pygments_lexer": "ipython3",
   "version": "3.7.10"
  }
 },
 "nbformat": 4,
 "nbformat_minor": 2
}
